{
 "cells": [
  {
   "cell_type": "markdown",
   "metadata": {
    "id": "luwqkl-ZNZxy"
   },
   "source": [
    "# Project on Predicting Four Different Stages of Alzheimer's Disease\n",
    "  * Non Demented\n",
    "  * Very Mild Demented\n",
    "  * Mild Demented\n",
    "  * Moderate Demented"
   ]
  },
  {
   "cell_type": "markdown",
   "metadata": {
    "id": "QMsf7R-GNUPB"
   },
   "source": [
    "## Importing Required Libraries"
   ]
  },
  {
   "cell_type": "code",
   "execution_count": 2,
   "metadata": {
    "id": "1g-Incf9BGSG"
   },
   "outputs": [
    {
     "ename": "ModuleNotFoundError",
     "evalue": "No module named 'tf_keras'",
     "output_type": "error",
     "traceback": [
      "\u001b[1;31m---------------------------------------------------------------------------\u001b[0m",
      "\u001b[1;31mModuleNotFoundError\u001b[0m                       Traceback (most recent call last)",
      "Cell \u001b[1;32mIn[2], line 16\u001b[0m\n\u001b[0;32m     13\u001b[0m \u001b[38;5;66;03m## Deep Learning Libraries and Modules\u001b[39;00m\n\u001b[0;32m     15\u001b[0m \u001b[38;5;28;01mimport\u001b[39;00m \u001b[38;5;21;01mtensorflow\u001b[39;00m \u001b[38;5;28;01mas\u001b[39;00m \u001b[38;5;21;01mtf\u001b[39;00m\n\u001b[1;32m---> 16\u001b[0m \u001b[38;5;28;01mimport\u001b[39;00m \u001b[38;5;21;01mtf_keras\u001b[39;00m \u001b[38;5;28;01mas\u001b[39;00m \u001b[38;5;21;01mkeras\u001b[39;00m\n\u001b[0;32m     17\u001b[0m \u001b[38;5;28;01mfrom\u001b[39;00m \u001b[38;5;21;01mtensorflow\u001b[39;00m\u001b[38;5;21;01m.\u001b[39;00m\u001b[38;5;21;01mkeras\u001b[39;00m\u001b[38;5;21;01m.\u001b[39;00m\u001b[38;5;21;01mmodels\u001b[39;00m \u001b[38;5;28;01mimport\u001b[39;00m Sequential\n\u001b[0;32m     18\u001b[0m \u001b[38;5;28;01mfrom\u001b[39;00m \u001b[38;5;21;01mtensorflow\u001b[39;00m\u001b[38;5;21;01m.\u001b[39;00m\u001b[38;5;21;01mkeras\u001b[39;00m\u001b[38;5;21;01m.\u001b[39;00m\u001b[38;5;21;01mlayers\u001b[39;00m \u001b[38;5;28;01mimport\u001b[39;00m Dense\n",
      "\u001b[1;31mModuleNotFoundError\u001b[0m: No module named 'tf_keras'"
     ]
    }
   ],
   "source": [
    "## General Libraries\n",
    "\n",
    "import numpy as np\n",
    "import matplotlib.pyplot as plt\n",
    "\n",
    "## Image Visualization and Preprocessing\n",
    "\n",
    "import os\n",
    "import PIL\n",
    "import cv2\n",
    "import pathlib\n",
    "\n",
    "## Deep Learning Libraries and Modules\n",
    "\n",
    "import tensorflow as tf\n",
    "import tf_keras as keras\n",
    "from tensorflow.keras.models import Sequential\n",
    "from tensorflow.keras.layers import Dense\n",
    "from tensorflow.keras.layers import Conv2D\n",
    "from tensorflow.keras.layers import MaxPooling2D\n",
    "from tensorflow.keras.layers import Input\n",
    "from tensorflow.keras.layers import Flatten\n",
    "from tensorflow.keras.layers import Dropout\n",
    "from tensorflow.keras.callbacks import ModelCheckpoint, EarlyStopping\n",
    "\n",
    "## Model Evaluation Modules\n",
    "\n",
    "from sklearn.metrics import classification_report\n",
    "from sklearn.metrics import confusion_matrix\n",
    "from sklearn.model_selection import train_test_split\n"
   ]
  },
  {
   "cell_type": "markdown",
   "metadata": {
    "id": "mLhHLZvRNHJj"
   },
   "source": [
    "## Converting Images into Data from Directory"
   ]
  },
  {
   "cell_type": "code",
   "execution_count": null,
   "metadata": {
    "id": "ICWR5XvLMrG1"
   },
   "outputs": [],
   "source": [
    "## !unzip \"/content/drive/MyDrive/Alzheimer's Disease/archive (13).zip\" -d \"/content/drive/MyDrive/Alzheimer's Disease\""
   ]
  },
  {
   "cell_type": "code",
   "execution_count": null,
   "metadata": {
    "id": "SwVvA-l4M93U"
   },
   "outputs": [],
   "source": [
    "datadir = \"AugmentedAlzheimerDataset/\""
   ]
  },
  {
   "cell_type": "code",
   "execution_count": null,
   "metadata": {
    "colab": {
     "base_uri": "https://localhost:8080/"
    },
    "id": "kaCBzC42OZRc",
    "outputId": "6d807eaf-f924-4ae1-deea-1dfadca2967f"
   },
   "outputs": [],
   "source": [
    "datadir = pathlib.Path(datadir)\n",
    "datadir"
   ]
  },
  {
   "cell_type": "code",
   "execution_count": null,
   "metadata": {
    "colab": {
     "base_uri": "https://localhost:8080/"
    },
    "id": "YkNWGxJgOzfy",
    "outputId": "b0544cbf-cd84-402f-a44f-65473c308b09"
   },
   "outputs": [],
   "source": [
    "len(list(datadir.glob('*/*.jpg')))"
   ]
  },
  {
   "cell_type": "code",
   "execution_count": null,
   "metadata": {
    "colab": {
     "base_uri": "https://localhost:8080/"
    },
    "id": "_eI7oidxPCD6",
    "outputId": "cfa442c3-feca-4816-a801-8fc5d3c98079"
   },
   "outputs": [],
   "source": [
    "len(list(datadir.glob('*/*.jpeg')))"
   ]
  },
  {
   "cell_type": "code",
   "execution_count": null,
   "metadata": {
    "colab": {
     "base_uri": "https://localhost:8080/"
    },
    "id": "0QzBKOnuPuR_",
    "outputId": "31950001-9d61-4504-c0e1-b3d86a975595"
   },
   "outputs": [],
   "source": [
    "len(list(datadir.glob('*/*.png')))"
   ]
  },
  {
   "cell_type": "code",
   "execution_count": null,
   "metadata": {
    "colab": {
     "base_uri": "https://localhost:8080/"
    },
    "id": "heGXhpjOP_Y0",
    "outputId": "4581b437-af58-4195-d73d-5d453972d3c5"
   },
   "outputs": [],
   "source": [
    "list(datadir.glob('*/*.jpg'))[:10]"
   ]
  },
  {
   "cell_type": "code",
   "execution_count": null,
   "metadata": {
    "colab": {
     "base_uri": "https://localhost:8080/"
    },
    "id": "93TOxACoQMEn",
    "outputId": "0584cbd5-4c79-4ca4-db0c-eb8e04392732"
   },
   "outputs": [],
   "source": [
    "image_count = len(list(datadir.glob('*/*.jpg')))\n",
    "image_count"
   ]
  },
  {
   "cell_type": "markdown",
   "metadata": {
    "id": "UhG74e0xQnps"
   },
   "source": [
    "## Viewing some Images using PIL  "
   ]
  },
  {
   "cell_type": "code",
   "execution_count": null,
   "metadata": {
    "colab": {
     "base_uri": "https://localhost:8080/"
    },
    "id": "mLorJ6B7Qypc",
    "outputId": "ea64c717-ea2f-4be8-fe87-956d5e182cf1"
   },
   "outputs": [],
   "source": [
    "veryMildDemented = list(datadir.glob('VeryMildDemented/*'))\n",
    "veryMildDemented[:5]"
   ]
  },
  {
   "cell_type": "code",
   "execution_count": null,
   "metadata": {
    "colab": {
     "base_uri": "https://localhost:8080/",
     "height": 207
    },
    "id": "f2YZGTCvRGv8",
    "outputId": "f7233773-0b54-4081-b02a-25fd674ec115"
   },
   "outputs": [],
   "source": [
    "PIL.Image.open(veryMildDemented[0])"
   ]
  },
  {
   "cell_type": "code",
   "execution_count": null,
   "metadata": {
    "colab": {
     "base_uri": "https://localhost:8080/",
     "height": 207
    },
    "id": "RBQ1IgTvRWZE",
    "outputId": "f1e6a953-efd7-40f5-d11c-9972bb8b3cc4"
   },
   "outputs": [],
   "source": [
    "PIL.Image.open(veryMildDemented[1])"
   ]
  },
  {
   "cell_type": "code",
   "execution_count": null,
   "metadata": {
    "colab": {
     "base_uri": "https://localhost:8080/"
    },
    "id": "DhM_-rukRZ20",
    "outputId": "9635c047-fd19-4a43-cde2-b4c2487e30a1"
   },
   "outputs": [],
   "source": [
    "MildDemented = list(datadir.glob('MildDemented/*'))\n",
    "MildDemented[:5]"
   ]
  },
  {
   "cell_type": "code",
   "execution_count": null,
   "metadata": {
    "colab": {
     "base_uri": "https://localhost:8080/",
     "height": 207
    },
    "id": "5bB5tKQqRnUE",
    "outputId": "8c435532-2fc5-4c0f-dfc2-0ad555e13cf4"
   },
   "outputs": [],
   "source": [
    "PIL.Image.open(MildDemented[0])"
   ]
  },
  {
   "cell_type": "code",
   "execution_count": null,
   "metadata": {
    "colab": {
     "base_uri": "https://localhost:8080/"
    },
    "id": "dtsKwbJ9RtX2",
    "outputId": "fdbab60d-aa2b-4506-b587-73cbf843a93b"
   },
   "outputs": [],
   "source": [
    "NonDemented = list(datadir.glob('NonDemented/*'))\n",
    "NonDemented[:5]"
   ]
  },
  {
   "cell_type": "code",
   "execution_count": null,
   "metadata": {
    "colab": {
     "base_uri": "https://localhost:8080/",
     "height": 197
    },
    "id": "xpHq0LTiR3Nj",
    "outputId": "412557aa-cac2-40c1-da4e-a76eb65e653f"
   },
   "outputs": [],
   "source": [
    "PIL.Image.open(NonDemented[0])"
   ]
  },
  {
   "cell_type": "code",
   "execution_count": null,
   "metadata": {
    "colab": {
     "base_uri": "https://localhost:8080/"
    },
    "id": "Se9ZcUhwR9Bz",
    "outputId": "98e964d3-e206-497a-c2d5-ce71bb857d02"
   },
   "outputs": [],
   "source": [
    "ModerateDemented = list(datadir.glob('ModerateDemented/*'))\n",
    "ModerateDemented[:5]"
   ]
  },
  {
   "cell_type": "code",
   "execution_count": null,
   "metadata": {
    "colab": {
     "base_uri": "https://localhost:8080/",
     "height": 207
    },
    "id": "6kahtUbDSH9c",
    "outputId": "d5dda47e-ea71-421a-f5f9-784fb9690dda"
   },
   "outputs": [],
   "source": [
    "PIL.Image.open(ModerateDemented[0])"
   ]
  },
  {
   "cell_type": "markdown",
   "metadata": {
    "id": "OAaK5RUtSNQp"
   },
   "source": [
    "## Converting Images into Numbers and Labelling"
   ]
  },
  {
   "cell_type": "code",
   "execution_count": null,
   "metadata": {
    "id": "u9sVQl3oSaVH"
   },
   "outputs": [],
   "source": [
    "images_dict = {\n",
    "    'NonDemented' : list(datadir.glob('NonDemented/*')),\n",
    "    'VeryMildDemented' : list(datadir.glob('VeryMildDemented/*')),\n",
    "    'MildDemented' : list(datadir.glob('MildDemented/*')),\n",
    "    'ModerateDemented' : list(datadir.glob('ModerateDemented/*')),\n",
    "}"
   ]
  },
  {
   "cell_type": "code",
   "execution_count": null,
   "metadata": {
    "id": "NqnLEksxTDSw"
   },
   "outputs": [],
   "source": [
    "labels_dict = {\n",
    "    'NonDemented' : 0,\n",
    "    'VeryMildDemented' : 1,\n",
    "    'MildDemented' : 2,\n",
    "    'ModerateDemented' : 3,\n",
    "}"
   ]
  },
  {
   "cell_type": "code",
   "execution_count": null,
   "metadata": {
    "colab": {
     "base_uri": "https://localhost:8080/"
    },
    "id": "k4a3_SwHTULc",
    "outputId": "d39008b9-0984-4e31-e85e-1467d665c25b"
   },
   "outputs": [],
   "source": [
    "images_dict['MildDemented'][:5]"
   ]
  },
  {
   "cell_type": "markdown",
   "metadata": {
    "id": "b1b4At1TTZ5T"
   },
   "source": [
    "### Using opencv library to convert data into numbers and labelling them"
   ]
  },
  {
   "cell_type": "code",
   "execution_count": null,
   "metadata": {
    "id": "oF_580BHTviU"
   },
   "outputs": [],
   "source": [
    "# x, y = [], []\n",
    "\n",
    "# for disease, images in images_dict.items():\n",
    "#   for image in images:\n",
    "#     img = cv2.imread(str(image))\n",
    "#     resized_img = cv2.resize(img,(180,180))\n",
    "#     x.append(resized_img)\n",
    "#     y.append(labels_dict[disease])"
   ]
  },
  {
   "cell_type": "code",
   "execution_count": null,
   "metadata": {
    "colab": {
     "base_uri": "https://localhost:8080/"
    },
    "id": "PsMF2pFmHQZW",
    "outputId": "3294bf43-682d-4a6a-999c-fe4fcea0ec5a"
   },
   "outputs": [],
   "source": [
    "len(images_dict['MildDemented'])"
   ]
  },
  {
   "cell_type": "code",
   "execution_count": null,
   "metadata": {
    "colab": {
     "base_uri": "https://localhost:8080/"
    },
    "id": "7OXvtMREHf0M",
    "outputId": "71697ebd-db30-48e9-de4a-4e02aee26703"
   },
   "outputs": [],
   "source": [
    "len(images_dict['VeryMildDemented'])"
   ]
  },
  {
   "cell_type": "code",
   "execution_count": null,
   "metadata": {
    "colab": {
     "base_uri": "https://localhost:8080/"
    },
    "id": "gtK7pPaZHuyr",
    "outputId": "f64b7659-22dc-4eba-a256-5692ab049bef"
   },
   "outputs": [],
   "source": [
    "len(images_dict['ModerateDemented'])"
   ]
  },
  {
   "cell_type": "code",
   "execution_count": null,
   "metadata": {
    "colab": {
     "base_uri": "https://localhost:8080/"
    },
    "id": "YNB3VQ3yHy6Y",
    "outputId": "62af6477-ae90-4ad8-f928-69f02d03876c"
   },
   "outputs": [],
   "source": [
    "len(images_dict['NonDemented'])"
   ]
  },
  {
   "cell_type": "code",
   "execution_count": null,
   "metadata": {
    "colab": {
     "base_uri": "https://localhost:8080/"
    },
    "id": "EAUQ20QjH6Hc",
    "outputId": "11ba3bfc-4724-4029-8c17-b20461b4a1be"
   },
   "outputs": [],
   "source": [
    "8960 + 8960 + 6464 + 9600"
   ]
  },
  {
   "cell_type": "code",
   "execution_count": null,
   "metadata": {
    "id": "qOFaxAnkFEVl"
   },
   "outputs": [],
   "source": [
    "def process_image(image_path, label):\n",
    "    image = tf.io.read_file(image_path)\n",
    "    image = tf.image.decode_jpeg(image, channels=3)\n",
    "    image = tf.image.convert_image_dtype(image, tf.float32)\n",
    "    image = tf.image.resize(image, [180, 180])\n",
    "    return image, label\n",
    "\n",
    "def create_dataset(image_paths, labels, batch_size=32, shuffle_buffer_size=10000):\n",
    "    dataset = tf.data.Dataset.from_tensor_slices((image_paths, labels))\n",
    "    dataset = dataset.shuffle(buffer_size=shuffle_buffer_size)\n",
    "    dataset = dataset.map(process_image, num_parallel_calls=tf.data.AUTOTUNE)\n",
    "    dataset = dataset.batch(batch_size)\n",
    "    dataset = dataset.prefetch(buffer_size=tf.data.AUTOTUNE)\n",
    "    return dataset\n",
    "\n",
    "image_paths = [str(image) for disease, images in images_dict.items() for image in images]\n",
    "labels = [labels_dict[disease] for disease, images in images_dict.items() for _ in images]\n",
    "\n",
    "train_paths, val_paths, train_labels, val_labels = train_test_split(image_paths, labels, test_size=0.2, stratify=labels, random_state=42)\n",
    "\n",
    "train_dataset = create_dataset(train_paths, train_labels, batch_size=32, shuffle_buffer_size=len(train_paths))\n",
    "val_dataset = create_dataset(val_paths, val_labels, batch_size=32, shuffle_buffer_size=len(val_paths))"
   ]
  },
  {
   "cell_type": "code",
   "execution_count": null,
   "metadata": {
    "id": "XGPtrOuKfn17"
   },
   "outputs": [],
   "source": [
    "model = Sequential([\n",
    "    Input(shape=(180,180,3)),\n",
    "    Conv2D(16, 3, padding='same', activation='relu'),\n",
    "    MaxPooling2D(),\n",
    "    Conv2D(32, 3, padding='same', activation='relu'),\n",
    "    MaxPooling2D(),\n",
    "    Conv2D(64, 3, padding='same', activation='relu'),\n",
    "    MaxPooling2D(),\n",
    "    Conv2D(128, 3, padding='same', activation='relu'),\n",
    "    MaxPooling2D(),\n",
    "    Conv2D(256, 3, padding='same', activation='relu'),\n",
    "    MaxPooling2D(),\n",
    "    Conv2D(512, 3, padding='same', activation='relu'),\n",
    "    MaxPooling2D(),\n",
    "    Flatten(),\n",
    "    Dense(512, activation='relu'),\n",
    "    Dense(256, activation='relu'),\n",
    "    Dense(128, activation='relu'),\n",
    "    Dense(64, activation='relu'),\n",
    "    Dense(8, activation='relu'),\n",
    "    Dense(4)\n",
    "])\n",
    "\n",
    "model.compile(optimizer='adam',\n",
    "              loss=tf.keras.losses.SparseCategoricalCrossentropy(from_logits=True),\n",
    "              metrics=['accuracy'])\n"
   ]
  },
  {
   "cell_type": "code",
   "execution_count": null,
   "metadata": {
    "colab": {
     "base_uri": "https://localhost:8080/",
     "height": 737
    },
    "id": "8Q9gxGm3RCnH",
    "outputId": "b0bf8693-a035-472d-9c70-a7f8400be28d"
   },
   "outputs": [],
   "source": [
    "model.summary()"
   ]
  },
  {
   "cell_type": "code",
   "execution_count": null,
   "metadata": {
    "colab": {
     "base_uri": "https://localhost:8080/"
    },
    "id": "s-FoKhzjRZ5T",
    "outputId": "83f2a1df-89fd-45be-9fea-f5c206314343"
   },
   "outputs": [],
   "source": [
    "checkpoint_cb = ModelCheckpoint(\"best_model.keras\", save_best_only=True)\n",
    "early_stopping_cb = EarlyStopping(patience=5, restore_best_weights=True)\n",
    "\n",
    "model.fit(train_dataset, validation_data=val_dataset, epochs=10,\n",
    "          callbacks=[checkpoint_cb, early_stopping_cb])"
   ]
  },
  {
   "cell_type": "code",
   "execution_count": null,
   "metadata": {
    "id": "ClsjWdeVRwiQ"
   },
   "outputs": [],
   "source": []
  }
 ],
 "metadata": {
  "accelerator": "GPU",
  "colab": {
   "gpuType": "T4",
   "provenance": []
  },
  "kernelspec": {
   "display_name": "Python 3 (ipykernel)",
   "language": "python",
   "name": "python3"
  },
  "language_info": {
   "codemirror_mode": {
    "name": "ipython",
    "version": 3
   },
   "file_extension": ".py",
   "mimetype": "text/x-python",
   "name": "python",
   "nbconvert_exporter": "python",
   "pygments_lexer": "ipython3",
   "version": "3.11.3"
  }
 },
 "nbformat": 4,
 "nbformat_minor": 4
}
